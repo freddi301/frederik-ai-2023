{
 "cells": [
  {
   "cell_type": "code",
   "execution_count": null,
   "metadata": {},
   "outputs": [],
   "source": [
    "import tensorflow as tf\n",
    "import numpy as np\n",
    "\n",
    "(x_train, y_train), (x_test, y_test) = tf.keras.datasets.mnist.load_data()\n",
    "\n",
    "x_train = x_train.astype(np.float32) / 255.0\n",
    "x_test = x_test.astype(np.float32) / 255.0\n"
   ]
  },
  {
   "cell_type": "code",
   "execution_count": null,
   "metadata": {},
   "outputs": [],
   "source": [
    "from matplotlib import pyplot as plt\n",
    "\n",
    "columns = 4\n",
    "rows = 4\n",
    "fig = plt.figure(figsize=(10, 10))\n",
    "for i in range(columns * rows):\n",
    "    img = x_train[i]\n",
    "    subplot = fig.add_subplot(rows, columns, i + 1)\n",
    "    subplot.set_title(\"label {}\".format(y_train[i]))\n",
    "    plt.imshow(img, cmap=\"gray\")\n",
    "plt.show()\n"
   ]
  },
  {
   "cell_type": "code",
   "execution_count": null,
   "metadata": {},
   "outputs": [],
   "source": [
    "import tensorflow as tf\n",
    "import numpy as np\n",
    "\n",
    "x_shape = x_train.shape[1:]\n",
    "\n",
    "encoder = tf.keras.Sequential(\n",
    "    [\n",
    "        tf.keras.layers.Input(shape=x_shape),\n",
    "        tf.keras.layers.Flatten(),\n",
    "        tf.keras.layers.Dense(\n",
    "            units=np.multiply.reduce(x_shape) * 8, activation=tf.keras.activations.relu\n",
    "        ),\n",
    "        tf.keras.layers.Dense(units=32, activation=tf.keras.activations.relu),\n",
    "    ]\n",
    ")\n",
    "\n",
    "decoder = tf.keras.Sequential(\n",
    "    [\n",
    "        tf.keras.layers.Input(shape=encoder.output_shape[1:]),\n",
    "        tf.keras.layers.Dense(\n",
    "            units=np.multiply.reduce(x_shape) * 8, activation=tf.keras.activations.relu\n",
    "        ),\n",
    "        tf.keras.layers.Dense(\n",
    "            units=np.multiply.reduce(x_shape), activation=tf.keras.activations.sigmoid\n",
    "        ),\n",
    "        tf.keras.layers.Reshape(target_shape=x_shape),\n",
    "    ]\n",
    ")\n",
    "\n",
    "input = tf.keras.layers.Input(shape=x_shape)\n",
    "\n",
    "autoencoder = tf.keras.Model(inputs=input, outputs=decoder(encoder(input)))\n",
    "\n",
    "autoencoder.compile(\n",
    "    loss=tf.keras.losses.Huber(),\n",
    "    optimizer=tf.keras.optimizers.Adam(),\n",
    ")\n",
    "\n",
    "history = autoencoder.fit(\n",
    "    x=x_train,\n",
    "    y=x_train,\n",
    "    epochs=5,\n",
    "    batch_size=128,\n",
    "    shuffle=True,\n",
    "    validation_data=(x_test, x_test),\n",
    ")\n"
   ]
  },
  {
   "cell_type": "code",
   "execution_count": null,
   "metadata": {},
   "outputs": [],
   "source": [
    "encoded_samples = encoder(x_test).numpy()\n",
    "decoded_samples = decoder(encoded_samples).numpy()\n",
    "\n",
    "n = 100\n",
    "plt.figure(figsize=(n * 2, 4))\n",
    "for i in range(n):\n",
    "    # display original\n",
    "    ax = plt.subplot(2, n, i + 1)\n",
    "    plt.imshow(x_test[i])\n",
    "    plt.title(\"original\")\n",
    "    plt.gray()\n",
    "    ax.get_xaxis().set_visible(False)\n",
    "    ax.get_yaxis().set_visible(False)\n",
    "\n",
    "    # display reconstruction\n",
    "    ax = plt.subplot(2, n, i + 1 + n)\n",
    "    plt.imshow(decoded_samples[i])\n",
    "    plt.title(\"reconstructed\")\n",
    "    plt.gray()\n",
    "    ax.get_xaxis().set_visible(False)\n",
    "    ax.get_yaxis().set_visible(False)\n",
    "plt.show()\n"
   ]
  }
 ],
 "metadata": {
  "kernelspec": {
   "display_name": "Python 3 (ipykernel)",
   "language": "python",
   "name": "python3"
  },
  "language_info": {
   "codemirror_mode": {
    "name": "ipython",
    "version": 3
   },
   "file_extension": ".py",
   "mimetype": "text/x-python",
   "name": "python",
   "nbconvert_exporter": "python",
   "pygments_lexer": "ipython3",
   "version": "3.8.10"
  },
  "orig_nbformat": 4
 },
 "nbformat": 4,
 "nbformat_minor": 2
}
