{
 "cells": [
  {
   "cell_type": "code",
   "execution_count": null,
   "metadata": {},
   "outputs": [],
   "source": [
    "import tensorflow as tf\n",
    "import matplotlib.pyplot as plt"
   ]
  },
  {
   "cell_type": "code",
   "execution_count": null,
   "metadata": {},
   "outputs": [],
   "source": [
    "# Check if GPU is available\n",
    "print(tf.test.is_built_with_cuda())\n",
    "print(tf.config.list_physical_devices(\"GPU\"))"
   ]
  },
  {
   "cell_type": "code",
   "execution_count": null,
   "metadata": {},
   "outputs": [],
   "source": [
    "def draw_images(images):\n",
    "    images_count = images.shape[0]\n",
    "    fig, axs = plt.subplots(1, images_count, figsize=(images_count * 2, 2))\n",
    "    for i, ax in enumerate(axs.flat):\n",
    "        ax.axis(\"off\")\n",
    "        ax.imshow(images[i], cmap=\"gray\")\n",
    "    plt.tight_layout()\n",
    "    plt.show()"
   ]
  },
  {
   "cell_type": "code",
   "execution_count": null,
   "metadata": {},
   "outputs": [],
   "source": [
    "def generate_random_circles(count, min_radius, max_radius, min_x, max_x, min_y, max_y):\n",
    "    x = tf.random.uniform([count], minval=min_x, maxval=max_x, dtype=tf.float32)\n",
    "    y = tf.random.uniform([count], minval=min_y, maxval=max_y, dtype=tf.float32)\n",
    "    radius = tf.random.uniform(\n",
    "        [count], minval=min_radius, maxval=max_radius, dtype=tf.float32\n",
    "    )\n",
    "    return tf.stack([x, y, radius], axis=-1)\n",
    "\n",
    "\n",
    "generate_random_circles(\n",
    "    count=2, min_radius=1, max_radius=10, min_x=-100, max_x=100, min_y=-100, max_y=100\n",
    ")"
   ]
  },
  {
   "cell_type": "code",
   "execution_count": null,
   "metadata": {},
   "outputs": [],
   "source": [
    "def generate_circle_images(circles, width, height, offset_x, offset_y):\n",
    "    x, y = tf.meshgrid(\n",
    "        tf.linspace(0, width - 1, width), tf.linspace(0, height - 1, height)\n",
    "    )\n",
    "    x = tf.cast(x + offset_x, dtype=tf.float32)\n",
    "    y = tf.cast(y + offset_y, dtype=tf.float32)\n",
    "    x = tf.tile(x[tf.newaxis, ...], [circles.shape[0], 1, 1])\n",
    "    y = tf.tile(y[tf.newaxis, ...], [circles.shape[0], 1, 1])\n",
    "    circles = tf.tile(circles[:, tf.newaxis, tf.newaxis, :], [1, width, height, 1])\n",
    "    distance = tf.sqrt(tf.square(x - circles[..., 0]) + tf.square(y - circles[..., 1]))\n",
    "    return tf.cast(distance <= circles[..., 2], dtype=tf.float32)\n",
    "\n",
    "\n",
    "circles = generate_random_circles(\n",
    "    count=15, min_radius=1, max_radius=100, min_x=-100, max_x=100, min_y=-100, max_y=100\n",
    ")\n",
    "images = generate_circle_images(\n",
    "    circles, width=200, height=200, offset_x=-100, offset_y=-100\n",
    ")\n",
    "draw_images(images)"
   ]
  },
  {
   "cell_type": "code",
   "execution_count": null,
   "metadata": {},
   "outputs": [],
   "source": [
    "def generate_data(count, image_width, image_height, offset_x, offset_y):\n",
    "    circles = generate_random_circles(\n",
    "        count=count,\n",
    "        min_radius=min(image_width, image_height) * 0.1,\n",
    "        max_radius=min(image_width, image_height) * 0.6,\n",
    "        min_x=offset_x,\n",
    "        max_x=offset_x + image_width,\n",
    "        min_y=offset_y,\n",
    "        max_y=offset_y + image_height,\n",
    "    )\n",
    "    images = generate_circle_images(\n",
    "        circles,\n",
    "        width=image_width,\n",
    "        height=image_height,\n",
    "        offset_x=offset_x,\n",
    "        offset_y=offset_y,\n",
    "    )\n",
    "\n",
    "    latent = tf.tile(\n",
    "        circles[:, tf.newaxis, tf.newaxis, :], [1, image_width, image_height, 1]\n",
    "    )\n",
    "    x, y = tf.meshgrid(\n",
    "        tf.cast(\n",
    "            tf.linspace(0, image_width - 1, image_width) + offset_x, dtype=tf.float32\n",
    "        ),\n",
    "        tf.cast(\n",
    "            tf.linspace(0, image_height - 1, image_height) + offset_y, dtype=tf.float32\n",
    "        ),\n",
    "    )\n",
    "    x = tf.expand_dims(tf.tile(x[tf.newaxis, ...], [circles.shape[0], 1, 1]), axis=-1)\n",
    "    y = tf.expand_dims(tf.tile(y[tf.newaxis, ...], [circles.shape[0], 1, 1]), axis=-1)\n",
    "\n",
    "    inputs = tf.concat([x, y, latent], axis=-1)\n",
    "\n",
    "    outputs = tf.expand_dims(images, axis=-1)\n",
    "\n",
    "    return inputs, outputs\n",
    "\n",
    "\n",
    "inputs, outputs = generate_data(\n",
    "    count=20, image_width=200, image_height=200, offset_x=1000, offset_y=-500\n",
    ")\n",
    "print(inputs.shape)\n",
    "print(outputs.shape)\n",
    "draw_images(outputs)"
   ]
  },
  {
   "cell_type": "code",
   "execution_count": null,
   "metadata": {},
   "outputs": [],
   "source": [
    "def create_positional_decoder(\n",
    "    position_dimensions,\n",
    "    latent_dimensions,\n",
    "    output_dimensions,\n",
    "    hidden_layers_count,\n",
    "    hidden_layers_units,\n",
    "):\n",
    "    inputs_layer = tf.keras.layers.Input(\n",
    "        shape=(\n",
    "            None,\n",
    "            None,\n",
    "            position_dimensions + latent_dimensions,\n",
    "        )\n",
    "    )\n",
    "    hidden_layer = inputs_layer\n",
    "    for i in range(hidden_layers_count):\n",
    "        hidden_layer = tf.keras.layers.Dense(\n",
    "            units=hidden_layers_units, activation=tf.keras.activations.relu\n",
    "        )(hidden_layer)\n",
    "    output_layer = tf.keras.layers.Dense(\n",
    "        units=output_dimensions, activation=tf.keras.activations.relu\n",
    "    )(hidden_layer)\n",
    "    model = tf.keras.Model(inputs=inputs_layer, outputs=output_layer)\n",
    "    model.compile(\n",
    "        optimizer=tf.keras.optimizers.Adam(), loss=tf.keras.losses.mean_squared_error\n",
    "    )\n",
    "    return model\n",
    "\n",
    "\n",
    "create_positional_decoder(\n",
    "    position_dimensions=2,\n",
    "    latent_dimensions=3,\n",
    "    output_dimensions=1,\n",
    "    hidden_layers_count=8,\n",
    "    hidden_layers_units=8,\n",
    ")"
   ]
  },
  {
   "cell_type": "code",
   "execution_count": null,
   "metadata": {},
   "outputs": [],
   "source": [
    "def train_until_improvement_treshold(fit, threshold=0.8, patience=10):\n",
    "    # treshold=0.8 means 20% improvement threshold\n",
    "    last_loss = float(\"inf\")\n",
    "    while patience > 0:\n",
    "        patience -= 1\n",
    "        history = fit()\n",
    "        loss = history.history[\"loss\"][-1]\n",
    "        if loss < last_loss * threshold:\n",
    "            last_loss = loss\n",
    "        else:\n",
    "            break"
   ]
  },
  {
   "cell_type": "code",
   "execution_count": null,
   "metadata": {},
   "outputs": [],
   "source": [
    "model = create_positional_decoder(\n",
    "    position_dimensions=2,  # x, y of a pixel\n",
    "    latent_dimensions=3,  # intuitively x, y, radius of a circle\n",
    "    output_dimensions=1,  # graysacale image\n",
    "    hidden_layers_count=16,\n",
    "    hidden_layers_units=8,\n",
    ")\n",
    "\n",
    "model.summary()\n",
    "\n",
    "train_inputs, train_outputs = generate_data(\n",
    "    count=2048, image_width=128, image_height=128, offset_x=0, offset_y=0\n",
    ")\n",
    "\n",
    "train_until_improvement_treshold(\n",
    "    lambda: model.fit(train_inputs, train_outputs, epochs=1, batch_size=2)\n",
    ")"
   ]
  },
  {
   "cell_type": "code",
   "execution_count": null,
   "metadata": {},
   "outputs": [],
   "source": [
    "page_size = 10\n",
    "draw_images(train_outputs[0:page_size])\n",
    "draw_images(model.predict(train_inputs[0:page_size]))\n",
    "\n",
    "test_inputs, test_outputs = generate_data(\n",
    "    count=page_size, image_width=800, image_height=800, offset_x=0, offset_y=0\n",
    ")\n",
    "draw_images(test_outputs)\n",
    "draw_images(model.predict(test_inputs))"
   ]
  }
 ],
 "metadata": {
  "kernelspec": {
   "display_name": "Python 3 (ipykernel)",
   "language": "python",
   "name": "python3"
  },
  "language_info": {
   "codemirror_mode": {
    "name": "ipython",
    "version": 3
   },
   "file_extension": ".py",
   "mimetype": "text/x-python",
   "name": "python",
   "nbconvert_exporter": "python",
   "pygments_lexer": "ipython3",
   "version": "3.11.0rc1"
  }
 },
 "nbformat": 4,
 "nbformat_minor": 2
}
