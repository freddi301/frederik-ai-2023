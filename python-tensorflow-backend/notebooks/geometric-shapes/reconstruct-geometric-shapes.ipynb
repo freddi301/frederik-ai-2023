{
 "cells": [
  {
   "cell_type": "code",
   "execution_count": 5,
   "metadata": {},
   "outputs": [],
   "source": [
    "import tensorflow as tf\n",
    "\n",
    "def generate_circles(circles_count, width, height):\n",
    "  \"\"\"\n",
    "  Generates circles with random x, y and radius values that are wholly inside the image.\n",
    "\n",
    "  Args:\n",
    "  circles_count: int, number of circles to generate.\n",
    "  width: int, width of the image.\n",
    "  height: int, height of the image.\n",
    "\n",
    "  Returns:\n",
    "  A tensor of shape (circles_count, 3) where the last dimension is [x, y, radius].\n",
    "  \"\"\"\n",
    "  width = tf.cast(width, tf.float32)\n",
    "  height = tf.cast(height, tf.float32)\n",
    "  x = tf.random.uniform([circles_count], maxval=width, dtype=tf.float32)\n",
    "  y = tf.random.uniform([circles_count], maxval=height, dtype=tf.float32)\n",
    "  radius = tf.random.uniform([circles_count], maxval=tf.minimum(width, height) / 2, dtype=tf.float32)\n",
    "  circles = tf.stack([x, y, radius], axis=1)\n",
    "  return circles\n"
   ]
  },
  {
   "cell_type": "code",
   "execution_count": 6,
   "metadata": {},
   "outputs": [],
   "source": [
    "import tensorflow as tf\n",
    "\n",
    "def generate_circle_images(circles, width, height):\n",
    "  \"\"\"\n",
    "  Generates a grayscale images of given width and height with one circle per image.\n",
    "\n",
    "  Args:\n",
    "  circles: tensor of shape (n, 3), the circles with [x, y, radius] values.\n",
    "  width: int, width of the image.\n",
    "  height: int, height of the image.\n",
    "\n",
    "  Returns:\n",
    "  A tensor of shape (n, height, width) representing the grayscale image.\n",
    "  \"\"\"\n",
    "\n",
    "  # create a meshgrid of x and y coordinates\n",
    "  x, y = tf.meshgrid(tf.linspace(0.0, width-1, width), tf.linspace(0.0, height-1, height))\n",
    "\n",
    "  x = tf.cast(x, tf.float32)\n",
    "  y = tf.cast(y, tf.float32)\n",
    "\n",
    "  # repeat x for every image\n",
    "  x = tf.tile(x[tf.newaxis, ...], [circles.shape[0], 1, 1])\n",
    "\n",
    "  # repeat y for every image\n",
    "  y = tf.tile(y[tf.newaxis, ...], [circles.shape[0], 1, 1])\n",
    "\n",
    "  # repeat the circles for each pixel\n",
    "  circles = tf.tile(circles[:, tf.newaxis, tf.newaxis, :], [1, width, height, 1])\n",
    "\n",
    "  # compute the distance from each pixel to each circle\n",
    "  distance = tf.sqrt(tf.square(x - circles[..., 0]) + tf.square(y - circles[..., 1]))\n",
    "\n",
    "  # create a mask for each circle\n",
    "  mask = distance <= circles[..., 2]\n",
    "\n",
    "  # convert the mask to a float32 tensor\n",
    "  mask = tf.cast(mask, tf.float32)\n",
    "\n",
    "  # add the channel dimension to the tensor\n",
    "  # mask = tf.expand_dims(mask, axis=-1)\n",
    "\n",
    "  return mask\n"
   ]
  },
  {
   "cell_type": "code",
   "execution_count": 12,
   "metadata": {},
   "outputs": [
    {
     "data": {
      "image/png": "[encoded data removed]",
      "text/plain": [
       "<Figure size 1000x400 with 10 Axes>"
      ]
     },
     "metadata": {},
     "output_type": "display_data"
    }
   ],
   "source": [
    "import matplotlib.pyplot as plt\n",
    "\n",
    "\n",
    "circle_count = 10\n",
    "width = 200\n",
    "height = 200\n",
    "circles = generate_circles(circle_count, width, height)\n",
    "images = generate_circle_images(circles, width, height)\n",
    "\n",
    "\n",
    "fig, axs = plt.subplots(2, 5, figsize=(10, 4))\n",
    "for i, ax in enumerate(axs.flat):\n",
    "  ax.imshow(images[i], cmap='gray')\n",
    "  ax.set_title(f'Circle {i+1}')\n",
    "  ax.axis('off')\n",
    "plt.tight_layout()\n",
    "plt.show()\n"
   ]
  },
  {
   "cell_type": "code",
   "execution_count": 8,
   "metadata": {},
   "outputs": [],
   "source": [
    "import tensorflow as tf\n",
    "\n",
    "class CustomDense(tf.keras.layers.Layer):\n",
    "  def __init__(self, units, **kwargs):\n",
    "    super(CustomDense, self).__init__(**kwargs)\n",
    "    self.units = units\n",
    "\n",
    "  def build(self, input_shape):\n",
    "    self.weights = self.add_weight(\n",
    "      shape=(input_shape[-1], self.units),\n",
    "      initializer=tf.keras.initializers.GlorotUniform,\n",
    "      trainable=True)\n",
    "    self.bias = self.add_weight(\n",
    "      shape=(self.units,),\n",
    "      initializer='zeros',\n",
    "      trainable=True)\n",
    "    super(CustomDense, self).build(input_shape)\n",
    "\n",
    "  def call(self, inputs):\n",
    "    output = tf.matmul(inputs, self.weights) + self.bias\n",
    "    \n",
    "    return output\n",
    "\n",
    "  def get_config(self):\n",
    "    config = super(CustomDense, self).get_config()\n",
    "    config.update({'units': self.units })\n",
    "    return config"
   ]
  },
  {
   "cell_type": "code",
   "execution_count": 9,
   "metadata": {},
   "outputs": [],
   "source": [
    "import tensorflow as tf\n",
    "\n",
    "class CustomReLU(tf.keras.layers.Layer):\n",
    "  def __init__(self, **kwargs):\n",
    "    super(CustomReLU, self).__init__(**kwargs)\n",
    "\n",
    "  def call(self, inputs):\n",
    "    return tf.nn.relu(inputs)\n"
   ]
  },
  {
   "cell_type": "code",
   "execution_count": 10,
   "metadata": {},
   "outputs": [],
   "source": [
    "import tensorflow as tf\n",
    "\n",
    "class CustomTanh(tf.keras.layers.Layer):\n",
    "  def __init__(self, **kwargs):\n",
    "    super(CustomTanh, self).__init__(**kwargs)\n",
    "\n",
    "  def call(self, inputs):\n",
    "    return tf.math.tanh(inputs)\n"
   ]
  },
  {
   "cell_type": "code",
   "execution_count": 13,
   "metadata": {},
   "outputs": [
    {
     "ename": "InvalidArgumentError",
     "evalue": "{{function_node __wrapped__Tile_device_/job:localhost/replica:0/task:0/device:CPU:0}} Expected multiples argument to be a vector of length 1 but got length 2 [Op:Tile]",
     "output_type": "error",
     "traceback": [
      "\u001b[1;31m---------------------------------------------------------------------------\u001b[0m",
      "\u001b[1;31mInvalidArgumentError\u001b[0m                      Traceback (most recent call last)",
      "\u001b[1;32mc:\\Users\\gobi3\\keep\\dev\\frederik-ai-2023\\python-tensorflow-backend\\notebooks\\geometric-shapes\\reconstruct-geometric-shapes.ipynb Cell 7\u001b[0m line \u001b[0;36m4\n\u001b[0;32m     <a href='vscode-notebook-cell:/c%3A/Users/gobi3/keep/dev/frederik-ai-2023/python-tensorflow-backend/notebooks/geometric-shapes/reconstruct-geometric-shapes.ipynb#W6sZmlsZQ%3D%3D?line=38'>39</a>\u001b[0m \u001b[39m# example usage\u001b[39;00m\n\u001b[0;32m     <a href='vscode-notebook-cell:/c%3A/Users/gobi3/keep/dev/frederik-ai-2023/python-tensorflow-backend/notebooks/geometric-shapes/reconstruct-geometric-shapes.ipynb#W6sZmlsZQ%3D%3D?line=39'>40</a>\u001b[0m latent_vars \u001b[39m=\u001b[39m tf\u001b[39m.\u001b[39mrandom\u001b[39m.\u001b[39mnormal([\u001b[39m10\u001b[39m])\n\u001b[1;32m---> <a href='vscode-notebook-cell:/c%3A/Users/gobi3/keep/dev/frederik-ai-2023/python-tensorflow-backend/notebooks/geometric-shapes/reconstruct-geometric-shapes.ipynb#W6sZmlsZQ%3D%3D?line=40'>41</a>\u001b[0m image \u001b[39m=\u001b[39m generate_image(latent_vars, \u001b[39m64\u001b[39;49m, \u001b[39m64\u001b[39;49m)\n\u001b[0;32m     <a href='vscode-notebook-cell:/c%3A/Users/gobi3/keep/dev/frederik-ai-2023/python-tensorflow-backend/notebooks/geometric-shapes/reconstruct-geometric-shapes.ipynb#W6sZmlsZQ%3D%3D?line=41'>42</a>\u001b[0m plt\u001b[39m.\u001b[39mimshow(image, cmap\u001b[39m=\u001b[39m\u001b[39m'\u001b[39m\u001b[39mgray\u001b[39m\u001b[39m'\u001b[39m)\n\u001b[0;32m     <a href='vscode-notebook-cell:/c%3A/Users/gobi3/keep/dev/frederik-ai-2023/python-tensorflow-backend/notebooks/geometric-shapes/reconstruct-geometric-shapes.ipynb#W6sZmlsZQ%3D%3D?line=42'>43</a>\u001b[0m plt\u001b[39m.\u001b[39mshow()\n",
      "\u001b[1;32mc:\\Users\\gobi3\\keep\\dev\\frederik-ai-2023\\python-tensorflow-backend\\notebooks\\geometric-shapes\\reconstruct-geometric-shapes.ipynb Cell 7\u001b[0m line \u001b[0;36m2\n\u001b[0;32m     <a href='vscode-notebook-cell:/c%3A/Users/gobi3/keep/dev/frederik-ai-2023/python-tensorflow-backend/notebooks/geometric-shapes/reconstruct-geometric-shapes.ipynb#W6sZmlsZQ%3D%3D?line=19'>20</a>\u001b[0m y \u001b[39m=\u001b[39m tf\u001b[39m.\u001b[39mconstant(y\u001b[39m.\u001b[39mreshape(\u001b[39m-\u001b[39m\u001b[39m1\u001b[39m), dtype\u001b[39m=\u001b[39mtf\u001b[39m.\u001b[39mfloat32)\n\u001b[0;32m     <a href='vscode-notebook-cell:/c%3A/Users/gobi3/keep/dev/frederik-ai-2023/python-tensorflow-backend/notebooks/geometric-shapes/reconstruct-geometric-shapes.ipynb#W6sZmlsZQ%3D%3D?line=21'>22</a>\u001b[0m \u001b[39m# repeat the latent variables for each pixel\u001b[39;00m\n\u001b[1;32m---> <a href='vscode-notebook-cell:/c%3A/Users/gobi3/keep/dev/frederik-ai-2023/python-tensorflow-backend/notebooks/geometric-shapes/reconstruct-geometric-shapes.ipynb#W6sZmlsZQ%3D%3D?line=22'>23</a>\u001b[0m latent_vars \u001b[39m=\u001b[39m tf\u001b[39m.\u001b[39;49mtile(latent_vars, [width\u001b[39m*\u001b[39;49mheight, \u001b[39m1\u001b[39;49m])\n\u001b[0;32m     <a href='vscode-notebook-cell:/c%3A/Users/gobi3/keep/dev/frederik-ai-2023/python-tensorflow-backend/notebooks/geometric-shapes/reconstruct-geometric-shapes.ipynb#W6sZmlsZQ%3D%3D?line=24'>25</a>\u001b[0m \u001b[39m# concatenate the latent variables, x and y coordinates\u001b[39;00m\n\u001b[0;32m     <a href='vscode-notebook-cell:/c%3A/Users/gobi3/keep/dev/frederik-ai-2023/python-tensorflow-backend/notebooks/geometric-shapes/reconstruct-geometric-shapes.ipynb#W6sZmlsZQ%3D%3D?line=25'>26</a>\u001b[0m inputs \u001b[39m=\u001b[39m tf\u001b[39m.\u001b[39mconcat([latent_vars, x[:, tf\u001b[39m.\u001b[39mnewaxis], y[:, tf\u001b[39m.\u001b[39mnewaxis]], axis\u001b[39m=\u001b[39m\u001b[39m-\u001b[39m\u001b[39m1\u001b[39m)\n",
      "File \u001b[1;32mc:\\Users\\gobi3\\keep\\dev\\frederik-ai-2023\\python-tensorflow-backend\\.conda\\lib\\site-packages\\tensorflow\\python\\ops\\gen_array_ops.py:11740\u001b[0m, in \u001b[0;36mtile\u001b[1;34m(input, multiples, name)\u001b[0m\n\u001b[0;32m  11738\u001b[0m   \u001b[39mif\u001b[39;00m _result \u001b[39mis\u001b[39;00m \u001b[39mnot\u001b[39;00m \u001b[39mNotImplemented\u001b[39m:\n\u001b[0;32m  11739\u001b[0m     \u001b[39mreturn\u001b[39;00m _result\n\u001b[1;32m> 11740\u001b[0m   \u001b[39mreturn\u001b[39;00m tile_eager_fallback(\n\u001b[0;32m  11741\u001b[0m       \u001b[39minput\u001b[39;49m, multiples, name\u001b[39m=\u001b[39;49mname, ctx\u001b[39m=\u001b[39;49m_ctx)\n\u001b[0;32m  11742\u001b[0m \u001b[39mexcept\u001b[39;00m _core\u001b[39m.\u001b[39m_SymbolicException:\n\u001b[0;32m  11743\u001b[0m   \u001b[39mpass\u001b[39;00m  \u001b[39m# Add nodes to the TensorFlow graph.\u001b[39;00m\n",
      "File \u001b[1;32mc:\\Users\\gobi3\\keep\\dev\\frederik-ai-2023\\python-tensorflow-backend\\.conda\\lib\\site-packages\\tensorflow\\python\\ops\\gen_array_ops.py:11786\u001b[0m, in \u001b[0;36mtile_eager_fallback\u001b[1;34m(input, multiples, name, ctx)\u001b[0m\n\u001b[0;32m  11784\u001b[0m _inputs_flat \u001b[39m=\u001b[39m [\u001b[39minput\u001b[39m, multiples]\n\u001b[0;32m  11785\u001b[0m _attrs \u001b[39m=\u001b[39m (\u001b[39m\"\u001b[39m\u001b[39mT\u001b[39m\u001b[39m\"\u001b[39m, _attr_T, \u001b[39m\"\u001b[39m\u001b[39mTmultiples\u001b[39m\u001b[39m\"\u001b[39m, _attr_Tmultiples)\n\u001b[1;32m> 11786\u001b[0m _result \u001b[39m=\u001b[39m _execute\u001b[39m.\u001b[39;49mexecute(\u001b[39mb\u001b[39;49m\u001b[39m\"\u001b[39;49m\u001b[39mTile\u001b[39;49m\u001b[39m\"\u001b[39;49m, \u001b[39m1\u001b[39;49m, inputs\u001b[39m=\u001b[39;49m_inputs_flat, attrs\u001b[39m=\u001b[39;49m_attrs,\n\u001b[0;32m  11787\u001b[0m                            ctx\u001b[39m=\u001b[39;49mctx, name\u001b[39m=\u001b[39;49mname)\n\u001b[0;32m  11788\u001b[0m \u001b[39mif\u001b[39;00m _execute\u001b[39m.\u001b[39mmust_record_gradient():\n\u001b[0;32m  11789\u001b[0m   _execute\u001b[39m.\u001b[39mrecord_gradient(\n\u001b[0;32m  11790\u001b[0m       \u001b[39m\"\u001b[39m\u001b[39mTile\u001b[39m\u001b[39m\"\u001b[39m, _inputs_flat, _attrs, _result)\n",
      "File \u001b[1;32mc:\\Users\\gobi3\\keep\\dev\\frederik-ai-2023\\python-tensorflow-backend\\.conda\\lib\\site-packages\\tensorflow\\python\\eager\\execute.py:54\u001b[0m, in \u001b[0;36mquick_execute\u001b[1;34m(op_name, num_outputs, inputs, attrs, ctx, name)\u001b[0m\n\u001b[0;32m     52\u001b[0m \u001b[39mtry\u001b[39;00m:\n\u001b[0;32m     53\u001b[0m   ctx\u001b[39m.\u001b[39mensure_initialized()\n\u001b[1;32m---> 54\u001b[0m   tensors \u001b[39m=\u001b[39m pywrap_tfe\u001b[39m.\u001b[39;49mTFE_Py_Execute(ctx\u001b[39m.\u001b[39;49m_handle, device_name, op_name,\n\u001b[0;32m     55\u001b[0m                                       inputs, attrs, num_outputs)\n\u001b[0;32m     56\u001b[0m \u001b[39mexcept\u001b[39;00m core\u001b[39m.\u001b[39m_NotOkStatusException \u001b[39mas\u001b[39;00m e:\n\u001b[0;32m     57\u001b[0m   \u001b[39mif\u001b[39;00m name \u001b[39mis\u001b[39;00m \u001b[39mnot\u001b[39;00m \u001b[39mNone\u001b[39;00m:\n",
      "\u001b[1;31mInvalidArgumentError\u001b[0m: {{function_node __wrapped__Tile_device_/job:localhost/replica:0/task:0/device:CPU:0}} Expected multiples argument to be a vector of length 1 but got length 2 [Op:Tile]"
     ]
    }
   ],
   "source": [
    "import tensorflow as tf\n",
    "import numpy as np\n",
    "import matplotlib.pyplot as plt\n",
    "\n",
    "def generate_image(latent_vars, width, height):\n",
    "  \"\"\"\n",
    "  Generates a grayscale image given some latent variables.\n",
    "\n",
    "  Args:\n",
    "  latent_vars: tensor of shape (latent_dim,), the latent variables.\n",
    "  width: int, width of the image.\n",
    "  height: int, height of the image.\n",
    "\n",
    "  Returns:\n",
    "  A tensor of shape (height, width) representing the grayscale image.\n",
    "  \"\"\"\n",
    "  # create a meshgrid of x and y coordinates\n",
    "  x, y = np.meshgrid(np.linspace(-1, 1, width), np.linspace(-1, 1, height))\n",
    "  x = tf.constant(x.reshape(-1), dtype=tf.float32)\n",
    "  y = tf.constant(y.reshape(-1), dtype=tf.float32)\n",
    "\n",
    "  # repeat the latent variables for each pixel\n",
    "  latent_vars = tf.tile(latent_vars, [width*height, 1])\n",
    "\n",
    "  # concatenate the latent variables, x and y coordinates\n",
    "  inputs = tf.concat([latent_vars, x[:, tf.newaxis], y[:, tf.newaxis]], axis=-1)\n",
    "\n",
    "  # define the dense layer\n",
    "  dense = tf.keras.layers.Dense(1, activation='sigmoid')\n",
    "\n",
    "  # compute the output of the dense layer\n",
    "  output = dense(inputs)\n",
    "\n",
    "  # reshape the output to the shape of the image\n",
    "  image = tf.reshape(output, (height, width))\n",
    "\n",
    "  return image\n",
    "\n",
    "# example usage\n",
    "# latent_vars = tf.random.normal([10])\n",
    "# image = generate_image(latent_vars, 64, 64)\n",
    "# plt.imshow(image, cmap='gray')\n",
    "# plt.show()\n"
   ]
  }
 ],
 "metadata": {
  "kernelspec": {
   "display_name": "Python 3",
   "language": "python",
   "name": "python3"
  },
  "language_info": {
   "codemirror_mode": {
    "name": "ipython",
    "version": 3
   },
   "file_extension": ".py",
   "mimetype": "text/x-python",
   "name": "python",
   "nbconvert_exporter": "python",
   "pygments_lexer": "ipython3",
   "version": "3.10.13"
  }
 },
 "nbformat": 4,
 "nbformat_minor": 2
}
